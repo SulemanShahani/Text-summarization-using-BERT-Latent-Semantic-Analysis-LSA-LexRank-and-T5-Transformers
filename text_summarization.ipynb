{
  "nbformat": 4,
  "nbformat_minor": 0,
  "metadata": {
    "colab": {
      "provenance": [],
      "toc_visible": true,
      "authorship_tag": "ABX9TyMmHE/m3Z6WBkMQuYvrIdbu",
      "include_colab_link": true
    },
    "kernelspec": {
      "name": "python3",
      "display_name": "Python 3"
    },
    "language_info": {
      "name": "python"
    }
  },
  "cells": [
    {
      "cell_type": "markdown",
      "metadata": {
        "id": "view-in-github",
        "colab_type": "text"
      },
      "source": [
        "<a href=\"https://colab.research.google.com/github/SulemanShahani/text-summarization-using-BERT-Latent-Semantic-Analysis-LSA-LexRank-and-T5-Transformers-/blob/main/text_summarization.ipynb\" target=\"_parent\"><img src=\"https://colab.research.google.com/assets/colab-badge.svg\" alt=\"Open In Colab\"/></a>"
      ]
    },
    {
      "cell_type": "code",
      "source": [
        "from transformers import TFBartForConditionalGeneration, BartTokenizer\n",
        "from string import punctuation\n",
        "import warnings\n",
        "import fitz  # PyMuPDF\n",
        "\n",
        "# Filter out the specific UserWarning\n",
        "warnings.filterwarnings(\"ignore\", message=\"The secret `HF_TOKEN` does not exist in your Colab secrets.*\")\n",
        "\n",
        "\n",
        "\n",
        "\n",
        "# Initialize BART tokenizer with Byte-Pair Encoding (BPE)\n",
        "bart_tokenizer_bpe = BartTokenizer.from_pretrained('facebook/bart-large-cnn', tokenizer_type='BPE')\n",
        "\n",
        "\n",
        "\n",
        "# Load pre-trained BART model and tokenizer\n",
        "model = TFBartForConditionalGeneration.from_pretrained('facebook/bart-large-cnn')\n",
        "#tokenizer = BartTokenizer.from_pretrained('facebook/bart-large-cnn')\n",
        "\n",
        "\n",
        "\n",
        "\n",
        "\n",
        "def read_pdf(file_path):\n",
        "    \"\"\"\n",
        "    Read text from a PDF file.\n",
        "\n",
        "    Args:\n",
        "        file_path (str): The path to the PDF file.\n",
        "\n",
        "    Returns:\n",
        "        str: The text extracted from the PDF.\n",
        "    \"\"\"\n",
        "    text = \"\"\n",
        "    with fitz.open(file_path) as pdf_file:\n",
        "        for page_num in range(len(pdf_file)):\n",
        "            page = pdf_file.load_page(page_num)\n",
        "            text += page.get_text()\n",
        "    return text\n",
        "\n",
        "\n",
        "file_path = '/content/eng.pdf'\n",
        "text = read_pdf(file_path)\n",
        "\n",
        "\n",
        "# Function for text preprocessing\n",
        "def preprocess_text(text):\n",
        "    # Convert text to lowercase\n",
        "    text = text.lower()\n",
        "    # Remove punctuation\n",
        "    text = ''.join([c for c in text if c not in punctuation])\n",
        "    return text\n",
        "\n",
        "\n",
        "\n",
        "# Text preprocessing for\n",
        "processed_text__bart = \"summarize\" + preprocess_text(text)\n",
        "\n",
        "\n",
        "\n",
        "# Concatenate the input text with the prefix \"summarize:\"\n",
        "text_to_summarize =  processed_text__bart\n",
        "\n",
        "# Tokenization using WordPiece for BART\n",
        "input_ids_bart = bart_tokenizer_bpe.encode(processed_text__bart, return_tensors='tf', max_length=1024, truncation=True, add_special_tokens=True)\n",
        "\n",
        "# Generate the summary\n",
        "\n",
        "summary_ids = model.generate(input_ids_bart, max_length=500)\n",
        "\n",
        "# Decode the summary\n",
        "bart_summary = bart_tokenizer_bpe.decode(summary_ids[0], skip_special_tokens=True)\n",
        "\n",
        "print(\"BART Summary:\")\n",
        "print(bart_summary)\n"
      ],
      "metadata": {
        "colab": {
          "base_uri": "https://localhost:8080/"
        },
        "id": "3KJn9Lq40dVZ",
        "outputId": "c1eee9a4-69a2-4fc9-b732-fb9168536351"
      },
      "execution_count": 2,
      "outputs": [
        {
          "output_type": "stream",
          "name": "stderr",
          "text": [
            "All PyTorch model weights were used when initializing TFBartForConditionalGeneration.\n",
            "\n",
            "All the weights of TFBartForConditionalGeneration were initialized from the PyTorch model.\n",
            "If your task is similar to the task the model of the checkpoint was trained on, you can already use TFBartForConditionalGeneration for predictions without further training.\n"
          ]
        },
        {
          "output_type": "stream",
          "name": "stdout",
          "text": [
            "BART Summary:\n",
            "Human rights is the foundation of freedom justice and peace in the world. The peoples of the united nations have reaffirmed their faith in fundamental human rights in the dignity and worth of the human person. Human rights should be protected by the rule of law. A common understanding of these rights and freedoms is of the greatest importance.\n"
          ]
        }
      ]
    },
    {
      "cell_type": "code",
      "source": [
        "from transformers import T5ForConditionalGeneration, T5Tokenizer\n",
        "from string import punctuation\n",
        "import fitz  # PyMuPDF\n",
        "# Load pre-trained T5 model and tokenizer\n",
        "model = T5ForConditionalGeneration.from_pretrained('t5-small')\n",
        "t5_tokenizer = T5Tokenizer.from_pretrained('t5-small')\n",
        "\n",
        "\n",
        "def read_pdf(file_path):\n",
        "    \"\"\"\n",
        "    Read text from a PDF file.\n",
        "\n",
        "    Args:\n",
        "        file_path (str): The path to the PDF file.\n",
        "\n",
        "    Returns:\n",
        "        str: The text extracted from the PDF.\n",
        "    \"\"\"\n",
        "    text = \"\"\n",
        "    with fitz.open(file_path) as pdf_file:\n",
        "        for page_num in range(len(pdf_file)):\n",
        "            page = pdf_file.load_page(page_num)\n",
        "            text += page.get_text()\n",
        "    return text\n",
        "\n",
        "\n",
        "file_path = '/content/eng.pdf'\n",
        "text = read_pdf(file_path)\n",
        "\n",
        "\n",
        "\n",
        "# Function for text preprocessing\n",
        "def preprocess_text(text):\n",
        "    # Convert text to lowercase\n",
        "    text = text.lower()\n",
        "    # Remove punctuation\n",
        "    text = ''.join([c for c in text if c not in punctuation])\n",
        "    return text\n",
        "\n",
        "# Text preprocessing for T5\n",
        "processed_text_t5 = \"summarize\" + preprocess_text(text)\n",
        "\n",
        "\n",
        "# Concatenate the input text with the prefix \"summarize:\"\n",
        "text_to_summarize =  processed_text_t5\n",
        "\n",
        "# Encode the input text\n",
        "input_ids = t5_tokenizer.encode(text_to_summarize, return_tensors='pt', max_length=2000, truncation=True, add_special_tokens=True)\n",
        "\n",
        "# Generate the summary\n",
        "summary_ids = model.generate(input_ids, max_length = 500 )\n",
        "\n",
        "# Decode the summary\n",
        "t5_summary = t5_tokenizer.decode(summary_ids[0], skip_special_tokens=True)\n",
        "\n",
        "\n",
        "# Post-processing steps\n",
        "# Since t5 convert all text into lowercase so we need to convert it to Propercase text\n",
        "# Split the summary into sentences\n",
        "sentences = t5_summary.split('. ')\n",
        "\n",
        "# Capitalize the first letter of each sentence and join them back together\n",
        "proper_case_summary = '. '.join([sentence.capitalize() for sentence in sentences])\n",
        "\n",
        "print(\"T5 Summary (Proper Case):\")\n",
        "print(proper_case_summary)\n",
        "\n",
        "\n",
        "\n",
        "\n",
        "\n",
        "\n"
      ],
      "metadata": {
        "colab": {
          "base_uri": "https://localhost:8080/"
        },
        "id": "ihktBHK9-8iE",
        "outputId": "afb30369-a9d7-4a69-aa63-bff10bca59bf"
      },
      "execution_count": 26,
      "outputs": [
        {
          "output_type": "stream",
          "name": "stderr",
          "text": [
            "Special tokens have been added in the vocabulary, make sure the associated word embeddings are fine-tuned or trained.\n"
          ]
        },
        {
          "output_type": "stream",
          "name": "stdout",
          "text": [
            "T5 Summary (Proper Case):\n",
            "Universal declaration of human rights is a common standard of achievement for all peoples and all nations. Despite the u.n.'s commitment to promoting universal respect for and observance of human rights and fundamental freedoms, the general assembly proclaims this universal declaration of human rights as a common standard of achievement for all peoples and all nations.\n"
          ]
        }
      ]
    },
    {
      "cell_type": "code",
      "source": [
        "# Import the summarizer\n",
        "#!pip install sumy\n",
        "import nltk\n",
        "nltk.download('punkt')\n",
        "from sumy.summarizers.lsa import LsaSummarizer\n",
        "from sumy.nlp.tokenizers import Tokenizer\n",
        "from sumy.parsers.plaintext import PlaintextParser\n",
        "import fitz\n",
        "\n",
        "def read_pdf(file_path):\n",
        "    \"\"\"\n",
        "    Read text from a PDF file.\n",
        "\n",
        "    Args:\n",
        "        file_path (str): The path to the PDF file.\n",
        "\n",
        "    Returns:\n",
        "        str: The text extracted from the PDF.\n",
        "    \"\"\"\n",
        "    text = \"\"\n",
        "    with fitz.open(file_path) as pdf_file:\n",
        "        for page_num in range(len(pdf_file)):\n",
        "            page = pdf_file.load_page(page_num)\n",
        "            text += page.get_text()\n",
        "    return text\n",
        "\n",
        "\n",
        "file_path = '/content/eng.pdf'\n",
        "text = read_pdf(file_path)\n",
        "\n",
        "\n",
        "\n",
        "# Concatenate the input text with the prefix \"summarize:\"\n",
        "text_to_summarize = text\n",
        "\n",
        "# Parsing the text string using PlaintextParser\n",
        "parser = PlaintextParser.from_string(text, Tokenizer('english'))\n",
        "\n",
        "# Creating the summarizer\n",
        "lsa_summarizer = LsaSummarizer()\n",
        "lsa_summary = lsa_summarizer(parser.document, 25)  # 3 indicates the number of sentences in the summary\n",
        "\n",
        "# Printing the summary\n",
        "for sentence_lsa in lsa_summary:\n",
        "    print(sentence_lsa)\n"
      ],
      "metadata": {
        "colab": {
          "base_uri": "https://localhost:8080/"
        },
        "id": "FRni9yRd5aZX",
        "outputId": "d8ca539a-4ab1-49d2-900c-a52ca7975b82"
      },
      "execution_count": 5,
      "outputs": [
        {
          "output_type": "stream",
          "name": "stderr",
          "text": [
            "[nltk_data] Downloading package punkt to /root/nltk_data...\n",
            "[nltk_data]   Package punkt is already up-to-date!\n"
          ]
        },
        {
          "output_type": "stream",
          "name": "stdout",
          "text": [
            "Universal Declaration of Human Rights Preamble Whereas recognition of the inherent dignity and of the equal and inalienable rights of all members of the human family is the foundation of freedom, justice and peace in the world, Whereas disregard and contempt for human rights have resulted in barbarous acts which have outraged the conscience of mankind, and the advent of a world in which human beings shall enjoy freedom of speech and belief and freedom from fear and want has been proclaimed as the highest aspiration of the common people, Whereas it is essential, if man is not to be compelled to have recourse, as a last resort, to rebellion against tyranny and oppression, that human rights should be protected by the rule of law, Whereas it is essential to promote the development of friendly relations between nations, Whereas the peoples of the United Nations have in the Charter reaffirmed their faith in fundamental human rights, in the dignity and worth of the human person and in the equal rights of men and women and have determined to promote social progress and better standards of life in larger freedom, Whereas Member States have pledged themselves to achieve, in cooperation with the United Nations, the promotion of universal respect for and observance of human rights and fundamental freedoms, Whereas a common understanding of these rights and freedoms is of the greatest importance for the full realization of this pledge, Now, therefore, The General Assembly, Proclaims this Universal Declaration of Human Rights as a common standard of achievement for all peoples and all nations, to the end that every individual and every organ of society, keeping this Declaration constantly in mind, shall strive by\n",
            "Article 2 Everyone is entitled to all the rights and freedoms set forth in this Declaration, without distinction of any kind, such as race, colour, sex, language, religion, political or other opinion, national or social origin, property, birth or other status.\n",
            "Furthermore, no distinction shall be made on the basis of the political, jurisdictional or international status of the country or territory to which a person belongs, whether it be independent, trust, non-self-governing or under any other limitation of sovereignty.\n",
            "Article 4 No one shall be held in slavery or servitude; slavery and the slave trade shall be prohibited in all their forms.\n",
            "Article 7 All are equal before the law and are entitled without any discrimination to equal protection of the law.\n",
            "All are entitled to equal protection against any discrimination in violation of this Declaration and against any incitement to such discrimination.\n",
            "Article 9 No one shall be subjected to arbitrary arrest, detention or exile.\n",
            "Everyone charged with a penal offence has the right to be presumed innocent until proved guilty according to law in a public trial at which he has had all the guarantees necessary for his defence.\n",
            "No one shall be held guilty of any penal offence on account of any act or omission which did not constitute a penal offence, under national or international law, at the time when it was committed.\n",
            "Article 12 No one shall be subjected to arbitrary interference with his privacy, family, home or correspondence, nor to attacks upon his honour and reputation.\n",
            "No one shall be arbitrarily deprived of his property.\n",
            "Article 18 Everyone has the right to freedom of thought, conscience and religion; this right includes freedom to change his religion or belief, and freedom, either alone or in community with others and in public or private, to manifest his religion or belief in teaching, practice, worship and observance.\n",
            "Everyone has the right to freedom of peaceful assembly and association.\n",
            "Everyone has the right of equal access to public service in his country.\n",
            "The will of the people shall be the basis of the authority of government; this will shall be expressed in periodic and genuine elections which shall be by universal and equal suffrage and shall be held by secret vote or by equivalent free voting procedures.\n",
            "Everyone who works has the right to just and favourable remuneration ensuring for himself and his family an existence worthy of human dignity, and supplemented, if necessary, by other means of social protection.\n",
            "Article 24 Everyone has the right to rest and leisure, including reasonable limitation of working hours and periodic holidays with pay.\n",
            "Everyone has the right to a standard of living adequate for the health and well-being of himself and of his family, including food, clothing, housing and medical care and necessary social services, and the right to security in the event of unemployment, sickness, disability, widowhood, old age or other lack of livelihood in circumstances beyond his control.\n",
            "All children, whether born in or out of wedlock, shall enjoy the same social protection.\n",
            "Education shall be free, at least in the elementary and fundamental stages.\n",
            "Technical and professional education shall be made generally available and higher education shall be equally accessible to all on the basis of merit.\n",
            "Article 28 Everyone is entitled to a social and international order in which the rights and freedoms set forth in this Declaration can be fully realized.\n",
            "Everyone has duties to the community in which alone the free and full development of his personality is possible.\n",
            "In the exercise of his rights and freedoms, everyone shall be subject only to such limitations as are determined by law solely for the purpose of securing due recognition and respect for the rights and freedoms of others and of meeting the just requirements of morality, public order and the general welfare in a democratic society.\n",
            "These rights and freedoms may in no case be exercised contrary to the purposes and principles of the United Nations.\n"
          ]
        }
      ]
    },
    {
      "cell_type": "code",
      "source": [
        "# Importing the parser and tokenizer\n",
        "from sumy.parsers.plaintext import PlaintextParser\n",
        "from sumy.nlp.tokenizers import Tokenizer\n",
        "\n",
        "# Import the LexRank summarizer\n",
        "from sumy.summarizers.lex_rank import LexRankSummarizer\n",
        "\n",
        "# Text to summarize\n",
        "import fitz\n",
        "\n",
        "def read_pdf(file_path):\n",
        "    \"\"\"\n",
        "    Read text from a PDF file.\n",
        "\n",
        "    Args:\n",
        "        file_path (str): The path to the PDF file.\n",
        "\n",
        "    Returns:\n",
        "        str: The text extracted from the PDF.\n",
        "    \"\"\"\n",
        "    text = \"\"\n",
        "    with fitz.open(file_path) as pdf_file:\n",
        "        for page_num in range(len(pdf_file)):\n",
        "            page = pdf_file.load_page(page_num)\n",
        "            text += page.get_text()\n",
        "    return text\n",
        "\n",
        "\n",
        "file_path = '/content/eng.pdf'\n",
        "text = read_pdf(file_path)\n",
        "\n",
        "\n",
        "\n",
        "# Concatenate the input text with the prefix \"summarize:\"\n",
        "text_to_summarize = text\n",
        "\n",
        "# Parsing the text string using PlaintextParser\n",
        "parser = PlaintextParser.from_string(text, Tokenizer('english'))\n",
        "\n",
        "# Creating a summary of 3 sentences\n",
        "lex_rank_summarizer = LexRankSummarizer()\n",
        "lexrank_summary = lex_rank_summarizer(parser.document, sentences_count=25)\n",
        "\n",
        "# Printing the summary\n",
        "for sentence_lexrank in lexrank_summary:\n",
        "    print(sentence_lexrank)\n"
      ],
      "metadata": {
        "colab": {
          "base_uri": "https://localhost:8080/"
        },
        "id": "y_y6mOGp6aT0",
        "outputId": "ab74fa9a-49fb-4b50-ad8b-af8e2a5b5bd9"
      },
      "execution_count": 6,
      "outputs": [
        {
          "output_type": "stream",
          "name": "stdout",
          "text": [
            "Universal Declaration of Human Rights Preamble Whereas recognition of the inherent dignity and of the equal and inalienable rights of all members of the human family is the foundation of freedom, justice and peace in the world, Whereas disregard and contempt for human rights have resulted in barbarous acts which have outraged the conscience of mankind, and the advent of a world in which human beings shall enjoy freedom of speech and belief and freedom from fear and want has been proclaimed as the highest aspiration of the common people, Whereas it is essential, if man is not to be compelled to have recourse, as a last resort, to rebellion against tyranny and oppression, that human rights should be protected by the rule of law, Whereas it is essential to promote the development of friendly relations between nations, Whereas the peoples of the United Nations have in the Charter reaffirmed their faith in fundamental human rights, in the dignity and worth of the human person and in the equal rights of men and women and have determined to promote social progress and better standards of life in larger freedom, Whereas Member States have pledged themselves to achieve, in cooperation with the United Nations, the promotion of universal respect for and observance of human rights and fundamental freedoms, Whereas a common understanding of these rights and freedoms is of the greatest importance for the full realization of this pledge, Now, therefore, The General Assembly, Proclaims this Universal Declaration of Human Rights as a common standard of achievement for all peoples and all nations, to the end that every individual and every organ of society, keeping this Declaration constantly in mind, shall strive by\n",
            "Article I All human beings are born free and equal in dignity and rights.\n",
            "Article 2 Everyone is entitled to all the rights and freedoms set forth in this Declaration, without distinction of any kind, such as race, colour, sex, language, religion, political or other opinion, national or social origin, property, birth or other status.\n",
            "Furthermore, no distinction shall be made on the basis of the political, jurisdictional or international status of the country or territory to which a person belongs, whether it be independent, trust, non-self-governing or under any other limitation of sovereignty.\n",
            "Article 3 Everyone has the right to life, liberty and the security of person.\n",
            "Article 4 No one shall be held in slavery or servitude; slavery and the slave trade shall be prohibited in all their forms.\n",
            "Article 6 Everyone has the right to recognition everywhere as a person before the law.\n",
            "Article 7 All are equal before the law and are entitled without any discrimination to equal protection of the law.\n",
            "Article 9 No one shall be subjected to arbitrary arrest, detention or exile.\n",
            "Article 10 Everyone is entitled in full equality to a fair and public hearing by an independent and impartial tribunal, in the determination of his rights and obligations and of any criminal charge against him.\n",
            "Everyone charged with a penal offence has the right to be presumed innocent until proved guilty according to law in a public trial at which he has had all the guarantees necessary for his defence.\n",
            "Everyone has the right to the protection of the law against such interference or attacks.\n",
            "Everyone has the right to leave any country, including his own, and to return to his country.\n",
            "Everyone has the right to a nationality.\n",
            "No one shall be arbitrarily deprived of his nationality nor denied the right to change his nationality.\n",
            "They are entitled to equal rights as to marriage, during marriage and at its dissolution.\n",
            "Article 18 Everyone has the right to freedom of thought, conscience and religion; this right includes freedom to change his religion or belief, and freedom, either alone or in community with others and in public or private, to manifest his religion or belief in teaching, practice, worship and observance.\n",
            "The will of the people shall be the basis of the authority of government; this will shall be expressed in periodic and genuine elections which shall be by universal and equal suffrage and shall be held by secret vote or by equivalent free voting procedures.\n",
            "Article 22 Everyone, as a member of society, has the right to social security and is entitled to realization, through national effort and international co-operation and in accordance with the organization and resources of each State, of the economic, social and cultural rights indispensable for his dignity and the free development of his personality.\n",
            "Everyone has the right to a standard of living adequate for the health and well-being of himself and of his family, including food, clothing, housing and medical care and necessary social services, and the right to security in the event of unemployment, sickness, disability, widowhood, old age or other lack of livelihood in circumstances beyond his control.\n",
            "Everyone has the right to education.\n",
            "Education shall be directed to the full development of the human personality and to the strengthening of respect for human rights and fundamental freedoms.\n",
            "Everyone has duties to the community in which alone the free and full development of his personality is possible.\n",
            "In the exercise of his rights and freedoms, everyone shall be subject only to such limitations as are determined by law solely for the purpose of securing due recognition and respect for the rights and freedoms of others and of meeting the just requirements of morality, public order and the general welfare in a democratic society.\n",
            "Article 30 Nothing in this Declaration may be interpreted as implying for any State, group or person any right to engage in any activity or to perform any act aimed at the destruction of any of the rights and freedoms set forth herein.\n"
          ]
        }
      ]
    },
    {
      "cell_type": "code",
      "source": [],
      "metadata": {
        "id": "DU6c6Teze3u1"
      },
      "execution_count": null,
      "outputs": []
    }
  ]
}